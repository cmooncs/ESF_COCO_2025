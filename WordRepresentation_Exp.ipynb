{
  "nbformat": 4,
  "nbformat_minor": 5,
  "metadata": {
    "kernelspec": {
      "display_name": "Python 3",
      "name": "python3"
    },
    "language_info": {
      "codemirror_mode": {
        "name": "ipython",
        "version": 3
      },
      "file_extension": ".py",
      "mimetype": "text/x-python",
      "name": "python",
      "nbconvert_exporter": "python",
      "pygments_lexer": "ipython3",
      "version": "3.7.7"
    },
    "colab": {
      "provenance": [],
      "gpuType": "T4",
      "include_colab_link": true
    },
    "accelerator": "GPU"
  },
  "cells": [
    {
      "cell_type": "markdown",
      "metadata": {
        "id": "view-in-github",
        "colab_type": "text"
      },
      "source": [
        "<a href=\"https://colab.research.google.com/github/cmooncs/ESF_COCO_2025/blob/main/WordRepresentation_Exp.ipynb\" target=\"_parent\"><img src=\"https://colab.research.google.com/assets/colab-badge.svg\" alt=\"Open In Colab\"/></a>"
      ]
    },
    {
      "cell_type": "markdown",
      "metadata": {
        "id": "suffering-visiting"
      },
      "source": [
        "# Word2Vec model\n",
        "<b>Model training a on large dataset</b><br>\n",
        "<i> Note: To make and save the changes to the colab notebook go to 'File -> Save a copy in Drive' </i>\n"
      ],
      "id": "suffering-visiting"
    },
    {
      "cell_type": "markdown",
      "metadata": {
        "id": "computational-crystal"
      },
      "source": [
        "#0. Install (if needed) and import libraries ‧₊˚🖇️✩ ₊˚📖"
      ],
      "id": "computational-crystal"
    },
    {
      "cell_type": "code",
      "source": [
        "import os\n",
        "import sys\n",
        "import subprocess, warnings\n",
        "# Suppress output\n",
        "with open(os.devnull, 'w') as devnull:\n",
        "  subprocess.check_call([sys.executable, \"-m\", \"pip\", \"install\", \"package-name\"], stdout=devnull, stderr=devnull)\n",
        "warnings.filterwarnings(\"ignore\", category=RuntimeWarning)\n",
        "warnings.filterwarnings(\"ignore\", category=DeprecationWarning)\n",
        "warnings.filterwarnings(\"ignore\")\n",
        "\n"
      ],
      "metadata": {
        "id": "WjJrYDi3oJLx"
      },
      "id": "WjJrYDi3oJLx",
      "execution_count": 1,
      "outputs": []
    },
    {
      "cell_type": "code",
      "metadata": {
        "id": "respiratory-monitoring",
        "collapsed": true,
        "colab": {
          "base_uri": "https://localhost:8080/"
        },
        "outputId": "f3fa84d3-e218-4821-c1fc-ad5bb09abb1c"
      },
      "source": [
        "import os\n",
        "import sys\n",
        "import subprocess\n",
        "# Suppress output\n",
        "with open(os.devnull, 'w') as devnull:\n",
        "  subprocess.check_call([sys.executable, \"-m\", \"pip\", \"install\", \"package-name\"], stdout=devnull, stderr=devnull)\n",
        "!pip install spacy --quiet\n",
        "!python -m spacy download en_core_web_sm\n",
        "!pip install bs4 --quiet\n",
        "#!pip install lxml\n",
        "!pip install nltk --quiet\n",
        "!pip install gensim --quiet\n",
        "import nltk\n",
        "nltk.download('stopwords')"
      ],
      "id": "respiratory-monitoring",
      "execution_count": 2,
      "outputs": [
        {
          "output_type": "stream",
          "name": "stdout",
          "text": [
            "Collecting en-core-web-sm==3.8.0\n",
            "  Downloading https://github.com/explosion/spacy-models/releases/download/en_core_web_sm-3.8.0/en_core_web_sm-3.8.0-py3-none-any.whl (12.8 MB)\n",
            "\u001b[2K     \u001b[90m━━━━━━━━━━━━━━━━━━━━━━━━━━━━━━━━━━━━━━━━\u001b[0m \u001b[32m12.8/12.8 MB\u001b[0m \u001b[31m71.4 MB/s\u001b[0m eta \u001b[36m0:00:00\u001b[0m\n",
            "\u001b[?25h\u001b[38;5;2m✔ Download and installation successful\u001b[0m\n",
            "You can now load the package via spacy.load('en_core_web_sm')\n",
            "\u001b[38;5;3m⚠ Restart to reload dependencies\u001b[0m\n",
            "If you are in a Jupyter or Colab notebook, you may need to restart Python in\n",
            "order to load all the package's dependencies. You can do this by selecting the\n",
            "'Restart kernel' or 'Restart runtime' option.\n",
            "\u001b[2K   \u001b[90m━━━━━━━━━━━━━━━━━━━━━━━━━━━━━━━━━━━━━━━━\u001b[0m \u001b[32m27.9/27.9 MB\u001b[0m \u001b[31m18.6 MB/s\u001b[0m eta \u001b[36m0:00:00\u001b[0m\n",
            "\u001b[?25h"
          ]
        },
        {
          "output_type": "stream",
          "name": "stderr",
          "text": [
            "[nltk_data] Downloading package stopwords to /root/nltk_data...\n",
            "[nltk_data]   Unzipping corpora/stopwords.zip.\n"
          ]
        },
        {
          "output_type": "execute_result",
          "data": {
            "text/plain": [
              "True"
            ]
          },
          "metadata": {},
          "execution_count": 2
        }
      ]
    },
    {
      "cell_type": "markdown",
      "metadata": {
        "id": "narrative-determination"
      },
      "source": [
        "# 1. Import all nesessary libraries 🚚"
      ],
      "id": "narrative-determination"
    },
    {
      "cell_type": "code",
      "metadata": {
        "id": "middle-queen"
      },
      "source": [
        "import re, string\n",
        "import pandas as pd\n",
        "from time import time\n",
        "from collections import defaultdict\n",
        "import spacy\n",
        "from sklearn.manifold import TSNE\n",
        "from nltk.corpus import stopwords\n",
        "STOPWORDS = set(stopwords.words('english'))\n",
        "from gensim.models import Word2Vec\n",
        "from bs4 import BeautifulSoup\n",
        "import re, string\n",
        "%matplotlib inline"
      ],
      "id": "middle-queen",
      "execution_count": 3,
      "outputs": []
    },
    {
      "cell_type": "markdown",
      "metadata": {
        "id": "composed-taxation"
      },
      "source": [
        "# 2. Load and look at the data from a file containing raw text of BBC news (news category: business, entertainment, politics, sport, and tech.) 🗞🗞\n",
        "This is BBC news (text data)  <br><a href = \"https://raw.githubusercontent.com/suraj-deshmukh/BBC-Dataset-News-Classification/master/dataset/dataset.csv\"> Data</a> ⛁ from an online <a href =\"https://github.com/suraj-deshmukh/BBC-Dataset-News-Classificationc\"> source</a>."
      ],
      "id": "composed-taxation"
    },
    {
      "cell_type": "code",
      "metadata": {
        "scrolled": true,
        "id": "dated-sydney",
        "collapsed": true
      },
      "source": [
        "import pandas as pd\n",
        "url = 'https://raw.githubusercontent.com/suraj-deshmukh/BBC-Dataset-News-Classification/master/dataset/dataset.csv'\n",
        "df1 = pd.read_csv(url,encoding = \"ISO-8859-1\")\n",
        "#df1 =df1['news']\n",
        "df1"
      ],
      "id": "dated-sydney",
      "execution_count": null,
      "outputs": []
    },
    {
      "cell_type": "markdown",
      "metadata": {
        "id": "imposed-october"
      },
      "source": [
        "# 3. Preparing the data (cleaning text) 🧼🫧🧺🧽🧹"
      ],
      "id": "imposed-october"
    },
    {
      "cell_type": "code",
      "metadata": {
        "id": "eight-master"
      },
      "source": [
        "clean = []\n",
        "for doc in df1['news']:\n",
        "    t = doc.lower() # lower case\n",
        "    t = BeautifulSoup(t,'html.parser').text #remove tags\n",
        "    t = re.sub('[^A-Za-z0-9]+',' ',t)# remove special characters/symbols\n",
        "    clean.append(t)\n",
        "df1['clean']= clean\n"
      ],
      "id": "eight-master",
      "execution_count": 5,
      "outputs": []
    },
    {
      "cell_type": "markdown",
      "metadata": {
        "id": "plain-semester"
      },
      "source": [
        "##3.1 Look at the text after cleaning(preprocessing)"
      ],
      "id": "plain-semester"
    },
    {
      "cell_type": "code",
      "metadata": {
        "scrolled": true,
        "id": "bottom-significance"
      },
      "source": [
        "df1.head()"
      ],
      "id": "bottom-significance",
      "execution_count": null,
      "outputs": []
    },
    {
      "cell_type": "markdown",
      "metadata": {
        "id": "competitive-power"
      },
      "source": [
        "##3.2  The training sample size (how many words present in the vocabulary?)"
      ],
      "id": "competitive-power"
    },
    {
      "cell_type": "code",
      "metadata": {
        "id": "marked-carbon"
      },
      "source": [
        "sentences = [row.split() for row in df1['clean']]\n",
        "word_freq = defaultdict(int)\n",
        "for sent in sentences:\n",
        "    for i in sent:\n",
        "        word_freq[i] += 1\n",
        "\n",
        "print('Documents:',len(sentences))\n",
        "print('Words:',len(word_freq))"
      ],
      "id": "marked-carbon",
      "execution_count": null,
      "outputs": []
    },
    {
      "cell_type": "markdown",
      "metadata": {
        "id": "exciting-recovery"
      },
      "source": [
        "##3.3 What are the highly frequent words?"
      ],
      "id": "exciting-recovery"
    },
    {
      "cell_type": "code",
      "metadata": {
        "id": "ordinary-triumph"
      },
      "source": [
        "sorted(word_freq, key=word_freq.get, reverse= True)[:10]\n"
      ],
      "id": "ordinary-triumph",
      "execution_count": null,
      "outputs": []
    },
    {
      "cell_type": "markdown",
      "metadata": {
        "id": "whole-serbia"
      },
      "source": [
        "# 4. Define Word2Vec model 💡"
      ],
      "id": "whole-serbia"
    },
    {
      "cell_type": "code",
      "metadata": {
        "id": "sustainable-anniversary"
      },
      "source": [
        "w2v_model = Word2Vec(min_count=1,\n",
        "                     window=5,\n",
        "                     #size=100,\n",
        "                     workers=1, seed = 1)"
      ],
      "id": "sustainable-anniversary",
      "execution_count": 9,
      "outputs": []
    },
    {
      "cell_type": "markdown",
      "metadata": {
        "id": "imposed-israel"
      },
      "source": [
        "#5. Build a vocabulary 🔠\n",
        "\n",
        "---\n",
        "\n"
      ],
      "id": "imposed-israel"
    },
    {
      "cell_type": "code",
      "metadata": {
        "id": "painful-institution"
      },
      "source": [
        "w2v_model.build_vocab(sentences)"
      ],
      "id": "painful-institution",
      "execution_count": 10,
      "outputs": []
    },
    {
      "cell_type": "markdown",
      "metadata": {
        "id": "1mIG-nR0p1NN"
      },
      "source": [
        "##5.1 Check vocabulary"
      ],
      "id": "1mIG-nR0p1NN"
    },
    {
      "cell_type": "code",
      "metadata": {
        "id": "hfKM5-Nj8ZTG"
      },
      "source": [
        "wordlist = list(w2v_model.wv.index_to_key)\n",
        "print(wordlist[500:550])# 15 words from the vocabulary\n",
        "#print(wordlist)# The whole list of vocabulary"
      ],
      "id": "hfKM5-Nj8ZTG",
      "execution_count": null,
      "outputs": []
    },
    {
      "cell_type": "markdown",
      "metadata": {
        "id": "recreational-remove"
      },
      "source": [
        "# 6. Train the model 🛠️ ⚙️🤖🦾"
      ],
      "id": "recreational-remove"
    },
    {
      "cell_type": "code",
      "metadata": {
        "id": "original-controversy"
      },
      "source": [
        "# Train the Word2Vec model\n",
        "w2v_model.train(sentences, total_examples=w2v_model.corpus_count, epochs=w2v_model.epochs)\n"
      ],
      "id": "original-controversy",
      "execution_count": null,
      "outputs": []
    },
    {
      "cell_type": "markdown",
      "metadata": {
        "id": "straight-pressing"
      },
      "source": [
        "# 7. Explore the model ⋆⭒˚.⋆🪐 ⋆⭒˚.⋆"
      ],
      "id": "straight-pressing"
    },
    {
      "cell_type": "markdown",
      "source": [
        "###7.1 Try word representation (number representation of the word)"
      ],
      "metadata": {
        "id": "plfl_Y32rd2N"
      },
      "id": "plfl_Y32rd2N"
    },
    {
      "cell_type": "code",
      "source": [
        "your_word = \"sunday\" ## Type all words in small letters, there could be some out-of-disctionary words that you may attempt!\n",
        "vector = w2v_model.wv[your_word]\n",
        "print(vector)"
      ],
      "metadata": {
        "id": "2cWicS_xqiOo"
      },
      "id": "2cWicS_xqiOo",
      "execution_count": null,
      "outputs": []
    },
    {
      "cell_type": "markdown",
      "metadata": {
        "id": "moved-duration"
      },
      "source": [
        "###7.2 Most similar words for a given word"
      ],
      "id": "moved-duration"
    },
    {
      "cell_type": "code",
      "metadata": {
        "id": "outer-james"
      },
      "source": [
        "# Explore the model\n",
        "w = 'internet' # example word = 'internet'\n",
        "w2v_model.wv.most_similar(positive=[w])"
      ],
      "id": "outer-james",
      "execution_count": null,
      "outputs": []
    },
    {
      "cell_type": "markdown",
      "metadata": {
        "id": "affecting-result"
      },
      "source": [
        "###7.3 Top 5 similar words"
      ],
      "id": "affecting-result"
    },
    {
      "cell_type": "code",
      "metadata": {
        "id": "accomplished-accident"
      },
      "source": [
        "w = 'china' # example word 'russia'\n",
        "w2v_model.wv.most_similar(positive=[w],topn =5)"
      ],
      "id": "accomplished-accident",
      "execution_count": null,
      "outputs": []
    },
    {
      "cell_type": "markdown",
      "metadata": {
        "id": "interesting-ecology"
      },
      "source": [
        "###7.4 Similarity between two words"
      ],
      "id": "interesting-ecology"
    },
    {
      "cell_type": "code",
      "metadata": {
        "id": "educated-collective"
      },
      "source": [
        "u = 'man'; v = 'woman' #other example words 'sea' and 'water'\n",
        "similarity_score = w2v_model.wv.similarity(u, v)\n",
        "print(similarity_score)"
      ],
      "id": "educated-collective",
      "execution_count": null,
      "outputs": []
    },
    {
      "cell_type": "code",
      "source": [
        "u = 'water'; v = 'sea'\n",
        "similarity_score = w2v_model.wv.similarity(u,v)\n",
        "print(similarity_score)"
      ],
      "metadata": {
        "id": "qfDsW2ldm3ip"
      },
      "id": "qfDsW2ldm3ip",
      "execution_count": null,
      "outputs": []
    },
    {
      "cell_type": "markdown",
      "source": [
        "Not so close words"
      ],
      "metadata": {
        "id": "C0eKTbYon0gV"
      },
      "id": "C0eKTbYon0gV"
    },
    {
      "cell_type": "code",
      "source": [
        "u = 'book'; v = 'battery' #other not so close meaning words\n",
        "similarity_score = w2v_model.wv.similarity(u,v)\n",
        "print(similarity_score)"
      ],
      "metadata": {
        "id": "UZ9emDpYnE4L"
      },
      "id": "UZ9emDpYnE4L",
      "execution_count": null,
      "outputs": []
    },
    {
      "cell_type": "markdown",
      "metadata": {
        "id": "K1sAHA8ALHqv"
      },
      "source": [
        "###7.5 Analogy (from the triplet),<br> E.g., go: went :: come: ? ;  Answer: came\n",
        "\n",
        "---\n",
        "![Screen Shot 2022-08-04 at 3.06.48 PM.png](data:image/png;base64,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)\n"
      ],
      "id": "K1sAHA8ALHqv"
    },
    {
      "cell_type": "code",
      "metadata": {
        "id": "WKVBJ9AFJ5ID"
      },
      "source": [
        "def analogy(a,b,c):\n",
        "  ans = w2v_model.wv.most_similar(negative=[a],positive=[b,c],topn =1) # E.g., rain+fly-raining =flying\n",
        "  print ('Answer: ', ans[0][0])\n",
        "\n"
      ],
      "id": "WKVBJ9AFJ5ID",
      "execution_count": 42,
      "outputs": []
    },
    {
      "cell_type": "code",
      "metadata": {
        "id": "Q5sQW-YOOyVx"
      },
      "source": [
        "analogy('he','she','his')"
      ],
      "id": "Q5sQW-YOOyVx",
      "execution_count": null,
      "outputs": []
    },
    {
      "cell_type": "code",
      "source": [
        "analogy('go','went','come')"
      ],
      "metadata": {
        "id": "xgyzc2rbtdXN"
      },
      "id": "xgyzc2rbtdXN",
      "execution_count": null,
      "outputs": []
    },
    {
      "cell_type": "code",
      "source": [
        "analogy('days','month','months')"
      ],
      "metadata": {
        "id": "fYVhBWODuDTw"
      },
      "id": "fYVhBWODuDTw",
      "execution_count": null,
      "outputs": []
    },
    {
      "cell_type": "code",
      "source": [
        "analogy('king','queen', 'he')"
      ],
      "metadata": {
        "id": "DJ-eI_GE2UCA",
        "colab": {
          "base_uri": "https://localhost:8080/"
        },
        "outputId": "8918865f-4df4-4898-a390-ada5ae01a858"
      },
      "id": "DJ-eI_GE2UCA",
      "execution_count": 59,
      "outputs": [
        {
          "output_type": "stream",
          "name": "stdout",
          "text": [
            "Answer:  she\n"
          ]
        }
      ]
    },
    {
      "cell_type": "markdown",
      "metadata": {
        "id": "sufficient-serve"
      },
      "source": [
        "###7.6.1 Plot embeddings</b><br>\n",
        "  Consider some common terms in the vocabulary as given in the following example"
      ],
      "id": "sufficient-serve"
    },
    {
      "cell_type": "code",
      "metadata": {
        "id": "ready-tonight"
      },
      "source": [
        "# We create 65 informative terms that compose our model vocabulary (to see how they are embedded in the vector space)\n",
        "informative_terms = (\"bad\", \"great\", \"best\", \"worst\", \"fun\", \"beautiful\",\n",
        "                     \"excellent\", \"poor\", \"boring\", \"awful\", \"terrible\",\n",
        "                     \"definitely\", \"perfect\", \"liked\", \"worse\", \"waste\",\n",
        "                      \"loved\", \"unfortunately\", \"amazing\",\n",
        "                     \"enjoyed\", \"favourite\", \"horrible\", \"brilliant\", \"highly\",\n",
        "                     \"sunday\",\"monday\",\"friday\",\"computer\", \"software\",\"network\",\n",
        "                     \"business\", \"bank\", \"money\",\n",
        "                     \"simple\", \"annoying\", \"today\", \"hilarious\", \"enjoyable\",\n",
        "                     \"dull\", \"fantastic\", \"poorly\", \"fails\", \"disappointing\",\n",
        "                     \"disappointment\", \"not\", \"him\", \"her\", \"good\", \"time\",\n",
        "                       \"action\",\"china\", \"moscow\",\"usa\",\"brazil\",\n",
        "                     \"drama\", \"family\", \"dialogue\",\"plot\",\"acting\",\n",
        "                     '1','2','3','100','1bn','3bn')\n",
        "len(informative_terms)"
      ],
      "id": "ready-tonight",
      "execution_count": null,
      "outputs": []
    },
    {
      "cell_type": "markdown",
      "metadata": {
        "id": "liberal-luxury"
      },
      "source": [
        "###7.6.2 Define and call a function to plot (using TSNE tool)"
      ],
      "id": "liberal-luxury"
    },
    {
      "cell_type": "code",
      "source": [
        "import matplotlib.pyplot as plt\n",
        "from sklearn.manifold import TSNE\n",
        "import numpy as np\n",
        "\n",
        "def tsne_plot(model, words_labels):\n",
        "    \"\"\"Create TSNE model and plot it\"\"\"\n",
        "    labels = []\n",
        "    tokens = []\n",
        "\n",
        "    # Collect vectors for words in vocabulary\n",
        "    for word in words_labels:\n",
        "        if word in model.wv.key_to_index:\n",
        "            tokens.append(model.wv[word])\n",
        "            labels.append(word)\n",
        "        else:\n",
        "            print(f\"Word '{word}' not in vocabulary\")\n",
        "\n",
        "    # Convert list of vectors to NumPy array\n",
        "    tokens_np = np.array(tokens)\n",
        "\n",
        "    # Ensure perplexity is less than number of samples\n",
        "    perplexity = min(5, len(tokens_np) - 1)\n",
        "\n",
        "    # Create TSNE model\n",
        "    tsne_model = TSNE(perplexity=perplexity, n_components=2, init='pca', max_iter=2500, random_state=23)\n",
        "    new_values = tsne_model.fit_transform(tokens_np)\n",
        "\n",
        "    # Separate x and y coordinates\n",
        "    x = [value[0] for value in new_values]\n",
        "    y = [value[1] for value in new_values]\n",
        "\n",
        "    # Plot\n",
        "    plt.figure(figsize=(10, 10))\n",
        "    for i in range(len(x)):\n",
        "        plt.scatter(x[i], y[i])\n",
        "        plt.annotate(labels[i],\n",
        "                     xy=(x[i], y[i]),\n",
        "                     xytext=(5, 2),\n",
        "                     textcoords='offset points',\n",
        "                     ha='right',\n",
        "                     va='bottom')\n",
        "    plt.show()"
      ],
      "metadata": {
        "id": "JJZEwEUiRDar"
      },
      "id": "JJZEwEUiRDar",
      "execution_count": 61,
      "outputs": []
    },
    {
      "cell_type": "markdown",
      "source": [
        "###7.6.3 Show the plot"
      ],
      "metadata": {
        "id": "DN3TPhIAsC6B"
      },
      "id": "DN3TPhIAsC6B"
    },
    {
      "cell_type": "code",
      "source": [
        " ## call this function\n",
        "tsne_plot(w2v_model,informative_terms)"
      ],
      "metadata": {
        "id": "mml3Qlp-RFF9",
        "collapsed": true
      },
      "id": "mml3Qlp-RFF9",
      "execution_count": null,
      "outputs": []
    }
  ]
}