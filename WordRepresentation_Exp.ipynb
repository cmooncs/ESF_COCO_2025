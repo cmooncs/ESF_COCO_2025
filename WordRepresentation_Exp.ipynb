{
  "nbformat": 4,
  "nbformat_minor": 5,
  "metadata": {
    "kernelspec": {
      "display_name": "Python 3",
      "language": "python",
      "name": "python3"
    },
    "language_info": {
      "codemirror_mode": {
        "name": "ipython",
        "version": 3
      },
      "file_extension": ".py",
      "mimetype": "text/x-python",
      "name": "python",
      "nbconvert_exporter": "python",
      "pygments_lexer": "ipython3",
      "version": "3.7.7"
    },
    "colab": {
      "provenance": [],
      "include_colab_link": true
    }
  },
  "cells": [
    {
      "cell_type": "markdown",
      "metadata": {
        "id": "view-in-github",
        "colab_type": "text"
      },
      "source": [
        "<a href=\"https://colab.research.google.com/github/cmooncs/ESF_COCO_2025/blob/main/WordRepresentation_Exp.ipynb\" target=\"_parent\"><img src=\"https://colab.research.google.com/assets/colab-badge.svg\" alt=\"Open In Colab\"/></a>"
      ]
    },
    {
      "cell_type": "markdown",
      "metadata": {
        "id": "suffering-visiting"
      },
      "source": [
        "# Word2Vec model\n",
        "<b>Model training a on large dataset</b><br>\n",
        "<i> Note: To make and save the changes to the colab notebook go to 'File -> Save a copy in Drive' </i>\n"
      ],
      "id": "suffering-visiting"
    },
    {
      "cell_type": "markdown",
      "metadata": {
        "id": "computational-crystal"
      },
      "source": [
        "#0. Install (if needed) and import libraries ‧₊˚🖇️✩ ₊˚📖"
      ],
      "id": "computational-crystal"
    },
    {
      "cell_type": "code",
      "source": [
        "import os\n",
        "import sys\n",
        "import subprocess, warnings\n",
        "# Suppress output\n",
        "with open(os.devnull, 'w') as devnull:\n",
        "  subprocess.check_call([sys.executable, \"-m\", \"pip\", \"install\", \"package-name\"], stdout=devnull, stderr=devnull)\n",
        "warnings.filterwarnings(\"ignore\", category=RuntimeWarning)\n",
        "warnings.filterwarnings(\"ignore\", category=DeprecationWarning)\n",
        "warnings.filterwarnings(\"ignore\")\n",
        "\n"
      ],
      "metadata": {
        "id": "WjJrYDi3oJLx"
      },
      "id": "WjJrYDi3oJLx",
      "execution_count": 59,
      "outputs": []
    },
    {
      "cell_type": "code",
      "metadata": {
        "id": "respiratory-monitoring",
        "colab": {
          "base_uri": "https://localhost:8080/"
        },
        "outputId": "2d078954-4f64-4222-ccd4-a11b6e5fc0d6",
        "collapsed": true
      },
      "source": [
        "import os\n",
        "import sys\n",
        "import subprocess\n",
        "# Suppress output\n",
        "with open(os.devnull, 'w') as devnull:\n",
        "  subprocess.check_call([sys.executable, \"-m\", \"pip\", \"install\", \"package-name\"], stdout=devnull, stderr=devnull)\n",
        "!pip install spacy --quiet\n",
        "!python -m spacy download en_core_web_sm\n",
        "!pip install bs4 --quiet\n",
        "#!pip install lxml\n",
        "!pip install nltk --quiet\n",
        "!pip install gensim --quiet\n",
        "import nltk\n",
        "nltk.download('stopwords')"
      ],
      "id": "respiratory-monitoring",
      "execution_count": 61,
      "outputs": [
        {
          "output_type": "stream",
          "name": "stdout",
          "text": [
            "Collecting en-core-web-sm==3.8.0\n",
            "  Downloading https://github.com/explosion/spacy-models/releases/download/en_core_web_sm-3.8.0/en_core_web_sm-3.8.0-py3-none-any.whl (12.8 MB)\n",
            "\u001b[2K     \u001b[90m━━━━━━━━━━━━━━━━━━━━━━━━━━━━━━━━━━━━━━━━\u001b[0m \u001b[32m12.8/12.8 MB\u001b[0m \u001b[31m95.8 MB/s\u001b[0m eta \u001b[36m0:00:00\u001b[0m\n",
            "\u001b[?25h\u001b[38;5;2m✔ Download and installation successful\u001b[0m\n",
            "You can now load the package via spacy.load('en_core_web_sm')\n",
            "\u001b[38;5;3m⚠ Restart to reload dependencies\u001b[0m\n",
            "If you are in a Jupyter or Colab notebook, you may need to restart Python in\n",
            "order to load all the package's dependencies. You can do this by selecting the\n",
            "'Restart kernel' or 'Restart runtime' option.\n"
          ]
        },
        {
          "output_type": "stream",
          "name": "stderr",
          "text": [
            "[nltk_data] Downloading package stopwords to /root/nltk_data...\n",
            "[nltk_data]   Package stopwords is already up-to-date!\n"
          ]
        },
        {
          "output_type": "execute_result",
          "data": {
            "text/plain": [
              "True"
            ]
          },
          "metadata": {},
          "execution_count": 61
        }
      ]
    },
    {
      "cell_type": "markdown",
      "metadata": {
        "id": "narrative-determination"
      },
      "source": [
        "# 1. Import all nesessary libraries 🚚"
      ],
      "id": "narrative-determination"
    },
    {
      "cell_type": "code",
      "metadata": {
        "id": "middle-queen"
      },
      "source": [
        "import re, string\n",
        "import pandas as pd\n",
        "from time import time\n",
        "from collections import defaultdict\n",
        "import spacy\n",
        "from sklearn.manifold import TSNE\n",
        "from nltk.corpus import stopwords\n",
        "STOPWORDS = set(stopwords.words('english'))\n",
        "from gensim.models import Word2Vec\n",
        "from bs4 import BeautifulSoup\n",
        "import re, string\n",
        "%matplotlib inline"
      ],
      "id": "middle-queen",
      "execution_count": 62,
      "outputs": []
    },
    {
      "cell_type": "markdown",
      "metadata": {
        "id": "composed-taxation"
      },
      "source": [
        "# 2. Load and look at the data from a file containing raw text of BBC news (news category: business, entertainment, politics, sport, and tech.) 🗞🗞\n",
        "This is BBC news (text data)  <br><a href = \"https://raw.githubusercontent.com/suraj-deshmukh/BBC-Dataset-News-Classification/master/dataset/dataset.csv\"> Data</a> ⛁ from an online <a href =\"https://github.com/suraj-deshmukh/BBC-Dataset-News-Classificationc\"> source</a>."
      ],
      "id": "composed-taxation"
    },
    {
      "cell_type": "code",
      "metadata": {
        "scrolled": true,
        "colab": {
          "base_uri": "https://localhost:8080/",
          "height": 1000
        },
        "id": "dated-sydney",
        "outputId": "c5b978b0-ec3a-4b91-9829-35c13894c1f5",
        "collapsed": true
      },
      "source": [
        "import pandas as pd\n",
        "url = 'https://raw.githubusercontent.com/suraj-deshmukh/BBC-Dataset-News-Classification/master/dataset/dataset.csv'\n",
        "df1 = pd.read_csv(url,encoding = \"ISO-8859-1\")\n",
        "#df1 =df1['news']\n",
        "df1"
      ],
      "id": "dated-sydney",
      "execution_count": 63,
      "outputs": [
        {
          "output_type": "execute_result",
          "data": {
            "text/plain": [
              "                                                   news      type\n",
              "0     China had role in Yukos split-up\\n \\n China le...  business\n",
              "1     Oil rebounds from weather effect\\n \\n Oil pric...  business\n",
              "2     Indonesia 'declines debt freeze'\\n \\n Indonesi...  business\n",
              "3     $1m payoff for former Shell boss\\n \\n Shell is...  business\n",
              "4     US bank in $515m SEC settlement\\n \\n Five Bank...  business\n",
              "...                                                 ...       ...\n",
              "2220  Microsoft launches its own search\\n \\n Microso...      tech\n",
              "2221  Warnings about junk mail deluge\\n \\n The amoun...      tech\n",
              "2222  Microsoft gets the blogging bug\\n \\n Software ...      tech\n",
              "2223  Gamers snap up new Sony PSP\\n \\n Gamers have b...      tech\n",
              "2224  Apple laptop is 'greatest gadget'\\n \\n The App...      tech\n",
              "\n",
              "[2225 rows x 2 columns]"
            ],
            "text/html": [
              "\n",
              "  <div id=\"df-f13b2cca-0778-4ca6-8b72-a61dff56e83f\" class=\"colab-df-container\">\n",
              "    <div>\n",
              "<style scoped>\n",
              "    .dataframe tbody tr th:only-of-type {\n",
              "        vertical-align: middle;\n",
              "    }\n",
              "\n",
              "    .dataframe tbody tr th {\n",
              "        vertical-align: top;\n",
              "    }\n",
              "\n",
              "    .dataframe thead th {\n",
              "        text-align: right;\n",
              "    }\n",
              "</style>\n",
              "<table border=\"1\" class=\"dataframe\">\n",
              "  <thead>\n",
              "    <tr style=\"text-align: right;\">\n",
              "      <th></th>\n",
              "      <th>news</th>\n",
              "      <th>type</th>\n",
              "    </tr>\n",
              "  </thead>\n",
              "  <tbody>\n",
              "    <tr>\n",
              "      <th>0</th>\n",
              "      <td>China had role in Yukos split-up\\n \\n China le...</td>\n",
              "      <td>business</td>\n",
              "    </tr>\n",
              "    <tr>\n",
              "      <th>1</th>\n",
              "      <td>Oil rebounds from weather effect\\n \\n Oil pric...</td>\n",
              "      <td>business</td>\n",
              "    </tr>\n",
              "    <tr>\n",
              "      <th>2</th>\n",
              "      <td>Indonesia 'declines debt freeze'\\n \\n Indonesi...</td>\n",
              "      <td>business</td>\n",
              "    </tr>\n",
              "    <tr>\n",
              "      <th>3</th>\n",
              "      <td>$1m payoff for former Shell boss\\n \\n Shell is...</td>\n",
              "      <td>business</td>\n",
              "    </tr>\n",
              "    <tr>\n",
              "      <th>4</th>\n",
              "      <td>US bank in $515m SEC settlement\\n \\n Five Bank...</td>\n",
              "      <td>business</td>\n",
              "    </tr>\n",
              "    <tr>\n",
              "      <th>...</th>\n",
              "      <td>...</td>\n",
              "      <td>...</td>\n",
              "    </tr>\n",
              "    <tr>\n",
              "      <th>2220</th>\n",
              "      <td>Microsoft launches its own search\\n \\n Microso...</td>\n",
              "      <td>tech</td>\n",
              "    </tr>\n",
              "    <tr>\n",
              "      <th>2221</th>\n",
              "      <td>Warnings about junk mail deluge\\n \\n The amoun...</td>\n",
              "      <td>tech</td>\n",
              "    </tr>\n",
              "    <tr>\n",
              "      <th>2222</th>\n",
              "      <td>Microsoft gets the blogging bug\\n \\n Software ...</td>\n",
              "      <td>tech</td>\n",
              "    </tr>\n",
              "    <tr>\n",
              "      <th>2223</th>\n",
              "      <td>Gamers snap up new Sony PSP\\n \\n Gamers have b...</td>\n",
              "      <td>tech</td>\n",
              "    </tr>\n",
              "    <tr>\n",
              "      <th>2224</th>\n",
              "      <td>Apple laptop is 'greatest gadget'\\n \\n The App...</td>\n",
              "      <td>tech</td>\n",
              "    </tr>\n",
              "  </tbody>\n",
              "</table>\n",
              "<p>2225 rows × 2 columns</p>\n",
              "</div>\n",
              "    <div class=\"colab-df-buttons\">\n",
              "\n",
              "  <div class=\"colab-df-container\">\n",
              "    <button class=\"colab-df-convert\" onclick=\"convertToInteractive('df-f13b2cca-0778-4ca6-8b72-a61dff56e83f')\"\n",
              "            title=\"Convert this dataframe to an interactive table.\"\n",
              "            style=\"display:none;\">\n",
              "\n",
              "  <svg xmlns=\"http://www.w3.org/2000/svg\" height=\"24px\" viewBox=\"0 -960 960 960\">\n",
              "    <path d=\"M120-120v-720h720v720H120Zm60-500h600v-160H180v160Zm220 220h160v-160H400v160Zm0 220h160v-160H400v160ZM180-400h160v-160H180v160Zm440 0h160v-160H620v160ZM180-180h160v-160H180v160Zm440 0h160v-160H620v160Z\"/>\n",
              "  </svg>\n",
              "    </button>\n",
              "\n",
              "  <style>\n",
              "    .colab-df-container {\n",
              "      display:flex;\n",
              "      gap: 12px;\n",
              "    }\n",
              "\n",
              "    .colab-df-convert {\n",
              "      background-color: #E8F0FE;\n",
              "      border: none;\n",
              "      border-radius: 50%;\n",
              "      cursor: pointer;\n",
              "      display: none;\n",
              "      fill: #1967D2;\n",
              "      height: 32px;\n",
              "      padding: 0 0 0 0;\n",
              "      width: 32px;\n",
              "    }\n",
              "\n",
              "    .colab-df-convert:hover {\n",
              "      background-color: #E2EBFA;\n",
              "      box-shadow: 0px 1px 2px rgba(60, 64, 67, 0.3), 0px 1px 3px 1px rgba(60, 64, 67, 0.15);\n",
              "      fill: #174EA6;\n",
              "    }\n",
              "\n",
              "    .colab-df-buttons div {\n",
              "      margin-bottom: 4px;\n",
              "    }\n",
              "\n",
              "    [theme=dark] .colab-df-convert {\n",
              "      background-color: #3B4455;\n",
              "      fill: #D2E3FC;\n",
              "    }\n",
              "\n",
              "    [theme=dark] .colab-df-convert:hover {\n",
              "      background-color: #434B5C;\n",
              "      box-shadow: 0px 1px 3px 1px rgba(0, 0, 0, 0.15);\n",
              "      filter: drop-shadow(0px 1px 2px rgba(0, 0, 0, 0.3));\n",
              "      fill: #FFFFFF;\n",
              "    }\n",
              "  </style>\n",
              "\n",
              "    <script>\n",
              "      const buttonEl =\n",
              "        document.querySelector('#df-f13b2cca-0778-4ca6-8b72-a61dff56e83f button.colab-df-convert');\n",
              "      buttonEl.style.display =\n",
              "        google.colab.kernel.accessAllowed ? 'block' : 'none';\n",
              "\n",
              "      async function convertToInteractive(key) {\n",
              "        const element = document.querySelector('#df-f13b2cca-0778-4ca6-8b72-a61dff56e83f');\n",
              "        const dataTable =\n",
              "          await google.colab.kernel.invokeFunction('convertToInteractive',\n",
              "                                                    [key], {});\n",
              "        if (!dataTable) return;\n",
              "\n",
              "        const docLinkHtml = 'Like what you see? Visit the ' +\n",
              "          '<a target=\"_blank\" href=https://colab.research.google.com/notebooks/data_table.ipynb>data table notebook</a>'\n",
              "          + ' to learn more about interactive tables.';\n",
              "        element.innerHTML = '';\n",
              "        dataTable['output_type'] = 'display_data';\n",
              "        await google.colab.output.renderOutput(dataTable, element);\n",
              "        const docLink = document.createElement('div');\n",
              "        docLink.innerHTML = docLinkHtml;\n",
              "        element.appendChild(docLink);\n",
              "      }\n",
              "    </script>\n",
              "  </div>\n",
              "\n",
              "\n",
              "    <div id=\"df-600dce55-5968-4133-95f1-80d39e4bbc36\">\n",
              "      <button class=\"colab-df-quickchart\" onclick=\"quickchart('df-600dce55-5968-4133-95f1-80d39e4bbc36')\"\n",
              "                title=\"Suggest charts\"\n",
              "                style=\"display:none;\">\n",
              "\n",
              "<svg xmlns=\"http://www.w3.org/2000/svg\" height=\"24px\"viewBox=\"0 0 24 24\"\n",
              "     width=\"24px\">\n",
              "    <g>\n",
              "        <path d=\"M19 3H5c-1.1 0-2 .9-2 2v14c0 1.1.9 2 2 2h14c1.1 0 2-.9 2-2V5c0-1.1-.9-2-2-2zM9 17H7v-7h2v7zm4 0h-2V7h2v10zm4 0h-2v-4h2v4z\"/>\n",
              "    </g>\n",
              "</svg>\n",
              "      </button>\n",
              "\n",
              "<style>\n",
              "  .colab-df-quickchart {\n",
              "      --bg-color: #E8F0FE;\n",
              "      --fill-color: #1967D2;\n",
              "      --hover-bg-color: #E2EBFA;\n",
              "      --hover-fill-color: #174EA6;\n",
              "      --disabled-fill-color: #AAA;\n",
              "      --disabled-bg-color: #DDD;\n",
              "  }\n",
              "\n",
              "  [theme=dark] .colab-df-quickchart {\n",
              "      --bg-color: #3B4455;\n",
              "      --fill-color: #D2E3FC;\n",
              "      --hover-bg-color: #434B5C;\n",
              "      --hover-fill-color: #FFFFFF;\n",
              "      --disabled-bg-color: #3B4455;\n",
              "      --disabled-fill-color: #666;\n",
              "  }\n",
              "\n",
              "  .colab-df-quickchart {\n",
              "    background-color: var(--bg-color);\n",
              "    border: none;\n",
              "    border-radius: 50%;\n",
              "    cursor: pointer;\n",
              "    display: none;\n",
              "    fill: var(--fill-color);\n",
              "    height: 32px;\n",
              "    padding: 0;\n",
              "    width: 32px;\n",
              "  }\n",
              "\n",
              "  .colab-df-quickchart:hover {\n",
              "    background-color: var(--hover-bg-color);\n",
              "    box-shadow: 0 1px 2px rgba(60, 64, 67, 0.3), 0 1px 3px 1px rgba(60, 64, 67, 0.15);\n",
              "    fill: var(--button-hover-fill-color);\n",
              "  }\n",
              "\n",
              "  .colab-df-quickchart-complete:disabled,\n",
              "  .colab-df-quickchart-complete:disabled:hover {\n",
              "    background-color: var(--disabled-bg-color);\n",
              "    fill: var(--disabled-fill-color);\n",
              "    box-shadow: none;\n",
              "  }\n",
              "\n",
              "  .colab-df-spinner {\n",
              "    border: 2px solid var(--fill-color);\n",
              "    border-color: transparent;\n",
              "    border-bottom-color: var(--fill-color);\n",
              "    animation:\n",
              "      spin 1s steps(1) infinite;\n",
              "  }\n",
              "\n",
              "  @keyframes spin {\n",
              "    0% {\n",
              "      border-color: transparent;\n",
              "      border-bottom-color: var(--fill-color);\n",
              "      border-left-color: var(--fill-color);\n",
              "    }\n",
              "    20% {\n",
              "      border-color: transparent;\n",
              "      border-left-color: var(--fill-color);\n",
              "      border-top-color: var(--fill-color);\n",
              "    }\n",
              "    30% {\n",
              "      border-color: transparent;\n",
              "      border-left-color: var(--fill-color);\n",
              "      border-top-color: var(--fill-color);\n",
              "      border-right-color: var(--fill-color);\n",
              "    }\n",
              "    40% {\n",
              "      border-color: transparent;\n",
              "      border-right-color: var(--fill-color);\n",
              "      border-top-color: var(--fill-color);\n",
              "    }\n",
              "    60% {\n",
              "      border-color: transparent;\n",
              "      border-right-color: var(--fill-color);\n",
              "    }\n",
              "    80% {\n",
              "      border-color: transparent;\n",
              "      border-right-color: var(--fill-color);\n",
              "      border-bottom-color: var(--fill-color);\n",
              "    }\n",
              "    90% {\n",
              "      border-color: transparent;\n",
              "      border-bottom-color: var(--fill-color);\n",
              "    }\n",
              "  }\n",
              "</style>\n",
              "\n",
              "      <script>\n",
              "        async function quickchart(key) {\n",
              "          const quickchartButtonEl =\n",
              "            document.querySelector('#' + key + ' button');\n",
              "          quickchartButtonEl.disabled = true;  // To prevent multiple clicks.\n",
              "          quickchartButtonEl.classList.add('colab-df-spinner');\n",
              "          try {\n",
              "            const charts = await google.colab.kernel.invokeFunction(\n",
              "                'suggestCharts', [key], {});\n",
              "          } catch (error) {\n",
              "            console.error('Error during call to suggestCharts:', error);\n",
              "          }\n",
              "          quickchartButtonEl.classList.remove('colab-df-spinner');\n",
              "          quickchartButtonEl.classList.add('colab-df-quickchart-complete');\n",
              "        }\n",
              "        (() => {\n",
              "          let quickchartButtonEl =\n",
              "            document.querySelector('#df-600dce55-5968-4133-95f1-80d39e4bbc36 button');\n",
              "          quickchartButtonEl.style.display =\n",
              "            google.colab.kernel.accessAllowed ? 'block' : 'none';\n",
              "        })();\n",
              "      </script>\n",
              "    </div>\n",
              "    </div>\n",
              "  </div>\n"
            ],
            "application/vnd.google.colaboratory.intrinsic+json": {
              "type": "dataframe",
              "variable_name": "df1",
              "summary": "{\n  \"name\": \"df1\",\n  \"rows\": 2225,\n  \"fields\": [\n    {\n      \"column\": \"news\",\n      \"properties\": {\n        \"dtype\": \"string\",\n        \"num_unique_values\": 2127,\n        \"samples\": [\n          \"Millions go missing at China bank\\n \\n Two senior officials at one of China's top commercial banks have reportedly disappeared after funds worth up to $120m (\\u00c2\\u00a364m) went missing.\\n \\n The pair both worked at Bank of China in the northern city of Harbin, the South China Morning Post reported. The latest scandal at Bank of China will do nothing to reassure foreign investors that China's big four banks are ready for international listings. Government policy sees the bank listings as vital economic reforms. Bank of China is one of two frontrunners in the race to list overseas. The other is China Construction Bank. Both are expected to list abroad during 2005.\\n \\n They shared a $45bn state bailout in 2003, to help clean up their balance sheets in preparation for a foreign stock market debut.\\n \\n However, a report in the China-published Economic Observer said on Monday that the two banks may have scrapped plans to list in New York because of the cost of meeting regulatory requirements imposed since the Enron scandal. Bank of China is the country's biggest foreign exchange dealer, while China Construction Bank is the largest deposit holder. China's banking sector is burdened with at least $190bn of bad debt according to official data, though most observers believe the true figure is far higher. Officially, one in five loans is not being repaid. Attempts to strengthen internal controls and tighten lending policies have uncovered a succession of scandals involving embezzlement by bank officials and loans-for-favours. The most high-profile case involved the ex-president of Bank of China, Wang Xuebing, jailed for 12 years in 2003. Although, he committed the offences whilst running Bank of China in New York, Mr Wang was head of China Construction Bank when the scandal broke. Earlier this month, a China Construction Bank branch manager was jailed for life in a separate case.\\n \\n China's banks used to act as cash offices for state enterprises and did not require checks on credit worthiness. The introduction of market reforms has been accompanied by attempts to modernise the banking sector, but links between banks and local government remain strong. Last year, China's premier, Wen Jiabao, targeted bank lending practices in a series of speeches, and regulators ordered all big loans to be scrutinised, in an attempt to cool down irresponsible lending. China's leaders see reforming the top four banks as vital to distribute capital to profitable companies and protect the health of China's economic boom. But two problems persist. First, inefficient state enterprises continue to receive protection from bankruptcy because they employ large numbers of people. Second, many questionable loans come not from the big four, but from smaller banks. Another high profile financial firm, China Life, is facing shareholder lawsuits and a probe by the US Securities and Exchange Commission following its 2004 New York listing over its failure to disclose accounting irregularities at its parent company.\\n\",\n          \"Portable PlayStation ready to go\\n \\n Sony's PlayStation Portable (PSP) will go on sale in Japan on 12 December.\\n \\n The long-awaited handheld game playing gadget will cost about 19,800 yen (145 euros) when it hits the shelves. At launch 21 games will be available for the PSP, including Need for Speed, Ridge Racer, Metal Gear Acid and Vampire Chronicle. Sony has not yet announced when the PSP will be available in Europe and the US, but analysts expect it to debut in those territories in early 2005.\\n \\n Fifa 2005 is back at the top of the UK games charts, a week after losing it to rival Pro Evolution Soccer 4. Konami's Pro Evo dropped only one place to two, while the only new entry in the top 10 was another football title, LMA Manager 2005, in at number seven. Tony Hawk's Underground 2 held its own at three, while Star Wars Battlefront inched up to four places to four. There was good news for Disney, with the spin-off from the Shark's Tale film moving up the charts into number eight.\\n \\n Fans of the Gran Turismo series in Europe are going to have to wait until next year for the latest version. Sony has said that the PAL version of GT4 will not be ready for Christmas. \\\"The product is localised into 13 different languages across the PAL territories, therefore the process takes considerably longer than it does in Japan,\\\" it said. Gran Turismo 4 for the PlayStation 2 is still expected to be released in Japan and the USA this year.\\n \\n Halo 2 has broken video game records, with pre-orders of more than 1.5 million in the US alone. Some 6,500 US stores plan to open just after midnight on Tuesday 9 November for the game's release. \\\"Halo 2 is projected to bring in more revenue than any day one box office blockbuster movie in the United States,\\\" said Xbox's Peter Moore. \\\"We've even heard rumours of fan anticipation of the 'Halo 2 flu' on 9 November.\\\"\\n\",\n          \"Tomlinson stays focused on Europe\\n \\n Long jumper Chris Tomlinson has cut his schedule to ensure he is fully fit for the European Indoor Championships.\\n \\n The 23-year-old has a minor injury and has pulled out of international meets in Madrid and Lievin this week as well as warm-weather training in Lanzarote. \\\"It's nothing serious,\\\" said his coach Peter Stanley. \\\"He strained a muscle in his abdomen at the Birmingham meeting but is back in full training.\\\" Sprinter Mark Lewis-Francis will also not compete in Madrid on Thursday. The Birmingham athlete, who clocked a season's best of 6.61 seconds over 60m in Birmingham last week, also prefers to focus his attentions on next month's European Indoor Championships.\\n \\n Lewis-Francis, who was runner-up to British team-mate Jason Gardener at the Europeans three years ago, will continue his training at home. Meanwhile, Tomlinson is still searching for this first major medal and this season he has shown he could be in the sort of form to grab a spot on the podium in Madrid. The Middlesbrough athlete jumped a season's best of 7.95m at the Birmingham Grand Prix - good enough to push world indoor champion Savante Stringfellow into second.\\n\"\n        ],\n        \"semantic_type\": \"\",\n        \"description\": \"\"\n      }\n    },\n    {\n      \"column\": \"type\",\n      \"properties\": {\n        \"dtype\": \"category\",\n        \"num_unique_values\": 5,\n        \"samples\": [\n          \"entertainment\",\n          \"tech\",\n          \"politics\"\n        ],\n        \"semantic_type\": \"\",\n        \"description\": \"\"\n      }\n    }\n  ]\n}"
            }
          },
          "metadata": {},
          "execution_count": 63
        }
      ]
    },
    {
      "cell_type": "markdown",
      "metadata": {
        "id": "imposed-october"
      },
      "source": [
        "# 3. Preparing the data (cleaning text) 🧼🫧🧺🧽🧹"
      ],
      "id": "imposed-october"
    },
    {
      "cell_type": "code",
      "metadata": {
        "id": "eight-master"
      },
      "source": [
        "clean = []\n",
        "for doc in df1['news']:\n",
        "    t = doc.lower() # lower case\n",
        "    t = BeautifulSoup(t,'html.parser').text #remove tags\n",
        "    t = re.sub('[^A-Za-z0-9]+',' ',t)# remove special characters/symbols\n",
        "    clean.append(t)\n",
        "df1['clean']= clean\n"
      ],
      "id": "eight-master",
      "execution_count": 64,
      "outputs": []
    },
    {
      "cell_type": "markdown",
      "metadata": {
        "id": "plain-semester"
      },
      "source": [
        "<b>--> Look at the text after cleaning(preprocessing)"
      ],
      "id": "plain-semester"
    },
    {
      "cell_type": "code",
      "metadata": {
        "scrolled": true,
        "colab": {
          "base_uri": "https://localhost:8080/",
          "height": 632
        },
        "id": "bottom-significance",
        "outputId": "68d4f50d-d463-4f92-9bc1-f20f89e36012"
      },
      "source": [
        "df1.head()"
      ],
      "id": "bottom-significance",
      "execution_count": 65,
      "outputs": [
        {
          "output_type": "execute_result",
          "data": {
            "text/plain": [
              "                                                news      type  \\\n",
              "0  China had role in Yukos split-up\\n \\n China le...  business   \n",
              "1  Oil rebounds from weather effect\\n \\n Oil pric...  business   \n",
              "2  Indonesia 'declines debt freeze'\\n \\n Indonesi...  business   \n",
              "3  $1m payoff for former Shell boss\\n \\n Shell is...  business   \n",
              "4  US bank in $515m SEC settlement\\n \\n Five Bank...  business   \n",
              "\n",
              "                                               clean  \n",
              "0  china had role in yukos split up china lent ru...  \n",
              "1  oil rebounds from weather effect oil prices re...  \n",
              "2  indonesia declines debt freeze indonesia no lo...  \n",
              "3   1m payoff for former shell boss shell is to p...  \n",
              "4  us bank in 515m sec settlement five bank of am...  "
            ],
            "text/html": [
              "\n",
              "  <div id=\"df-af23c6fc-50aa-47c7-8617-ec6699e52ecd\" class=\"colab-df-container\">\n",
              "    <div>\n",
              "<style scoped>\n",
              "    .dataframe tbody tr th:only-of-type {\n",
              "        vertical-align: middle;\n",
              "    }\n",
              "\n",
              "    .dataframe tbody tr th {\n",
              "        vertical-align: top;\n",
              "    }\n",
              "\n",
              "    .dataframe thead th {\n",
              "        text-align: right;\n",
              "    }\n",
              "</style>\n",
              "<table border=\"1\" class=\"dataframe\">\n",
              "  <thead>\n",
              "    <tr style=\"text-align: right;\">\n",
              "      <th></th>\n",
              "      <th>news</th>\n",
              "      <th>type</th>\n",
              "      <th>clean</th>\n",
              "    </tr>\n",
              "  </thead>\n",
              "  <tbody>\n",
              "    <tr>\n",
              "      <th>0</th>\n",
              "      <td>China had role in Yukos split-up\\n \\n China le...</td>\n",
              "      <td>business</td>\n",
              "      <td>china had role in yukos split up china lent ru...</td>\n",
              "    </tr>\n",
              "    <tr>\n",
              "      <th>1</th>\n",
              "      <td>Oil rebounds from weather effect\\n \\n Oil pric...</td>\n",
              "      <td>business</td>\n",
              "      <td>oil rebounds from weather effect oil prices re...</td>\n",
              "    </tr>\n",
              "    <tr>\n",
              "      <th>2</th>\n",
              "      <td>Indonesia 'declines debt freeze'\\n \\n Indonesi...</td>\n",
              "      <td>business</td>\n",
              "      <td>indonesia declines debt freeze indonesia no lo...</td>\n",
              "    </tr>\n",
              "    <tr>\n",
              "      <th>3</th>\n",
              "      <td>$1m payoff for former Shell boss\\n \\n Shell is...</td>\n",
              "      <td>business</td>\n",
              "      <td>1m payoff for former shell boss shell is to p...</td>\n",
              "    </tr>\n",
              "    <tr>\n",
              "      <th>4</th>\n",
              "      <td>US bank in $515m SEC settlement\\n \\n Five Bank...</td>\n",
              "      <td>business</td>\n",
              "      <td>us bank in 515m sec settlement five bank of am...</td>\n",
              "    </tr>\n",
              "  </tbody>\n",
              "</table>\n",
              "</div>\n",
              "    <div class=\"colab-df-buttons\">\n",
              "\n",
              "  <div class=\"colab-df-container\">\n",
              "    <button class=\"colab-df-convert\" onclick=\"convertToInteractive('df-af23c6fc-50aa-47c7-8617-ec6699e52ecd')\"\n",
              "            title=\"Convert this dataframe to an interactive table.\"\n",
              "            style=\"display:none;\">\n",
              "\n",
              "  <svg xmlns=\"http://www.w3.org/2000/svg\" height=\"24px\" viewBox=\"0 -960 960 960\">\n",
              "    <path d=\"M120-120v-720h720v720H120Zm60-500h600v-160H180v160Zm220 220h160v-160H400v160Zm0 220h160v-160H400v160ZM180-400h160v-160H180v160Zm440 0h160v-160H620v160ZM180-180h160v-160H180v160Zm440 0h160v-160H620v160Z\"/>\n",
              "  </svg>\n",
              "    </button>\n",
              "\n",
              "  <style>\n",
              "    .colab-df-container {\n",
              "      display:flex;\n",
              "      gap: 12px;\n",
              "    }\n",
              "\n",
              "    .colab-df-convert {\n",
              "      background-color: #E8F0FE;\n",
              "      border: none;\n",
              "      border-radius: 50%;\n",
              "      cursor: pointer;\n",
              "      display: none;\n",
              "      fill: #1967D2;\n",
              "      height: 32px;\n",
              "      padding: 0 0 0 0;\n",
              "      width: 32px;\n",
              "    }\n",
              "\n",
              "    .colab-df-convert:hover {\n",
              "      background-color: #E2EBFA;\n",
              "      box-shadow: 0px 1px 2px rgba(60, 64, 67, 0.3), 0px 1px 3px 1px rgba(60, 64, 67, 0.15);\n",
              "      fill: #174EA6;\n",
              "    }\n",
              "\n",
              "    .colab-df-buttons div {\n",
              "      margin-bottom: 4px;\n",
              "    }\n",
              "\n",
              "    [theme=dark] .colab-df-convert {\n",
              "      background-color: #3B4455;\n",
              "      fill: #D2E3FC;\n",
              "    }\n",
              "\n",
              "    [theme=dark] .colab-df-convert:hover {\n",
              "      background-color: #434B5C;\n",
              "      box-shadow: 0px 1px 3px 1px rgba(0, 0, 0, 0.15);\n",
              "      filter: drop-shadow(0px 1px 2px rgba(0, 0, 0, 0.3));\n",
              "      fill: #FFFFFF;\n",
              "    }\n",
              "  </style>\n",
              "\n",
              "    <script>\n",
              "      const buttonEl =\n",
              "        document.querySelector('#df-af23c6fc-50aa-47c7-8617-ec6699e52ecd button.colab-df-convert');\n",
              "      buttonEl.style.display =\n",
              "        google.colab.kernel.accessAllowed ? 'block' : 'none';\n",
              "\n",
              "      async function convertToInteractive(key) {\n",
              "        const element = document.querySelector('#df-af23c6fc-50aa-47c7-8617-ec6699e52ecd');\n",
              "        const dataTable =\n",
              "          await google.colab.kernel.invokeFunction('convertToInteractive',\n",
              "                                                    [key], {});\n",
              "        if (!dataTable) return;\n",
              "\n",
              "        const docLinkHtml = 'Like what you see? Visit the ' +\n",
              "          '<a target=\"_blank\" href=https://colab.research.google.com/notebooks/data_table.ipynb>data table notebook</a>'\n",
              "          + ' to learn more about interactive tables.';\n",
              "        element.innerHTML = '';\n",
              "        dataTable['output_type'] = 'display_data';\n",
              "        await google.colab.output.renderOutput(dataTable, element);\n",
              "        const docLink = document.createElement('div');\n",
              "        docLink.innerHTML = docLinkHtml;\n",
              "        element.appendChild(docLink);\n",
              "      }\n",
              "    </script>\n",
              "  </div>\n",
              "\n",
              "\n",
              "    <div id=\"df-3e15d790-aba5-45ae-9c88-93cd9402b4e3\">\n",
              "      <button class=\"colab-df-quickchart\" onclick=\"quickchart('df-3e15d790-aba5-45ae-9c88-93cd9402b4e3')\"\n",
              "                title=\"Suggest charts\"\n",
              "                style=\"display:none;\">\n",
              "\n",
              "<svg xmlns=\"http://www.w3.org/2000/svg\" height=\"24px\"viewBox=\"0 0 24 24\"\n",
              "     width=\"24px\">\n",
              "    <g>\n",
              "        <path d=\"M19 3H5c-1.1 0-2 .9-2 2v14c0 1.1.9 2 2 2h14c1.1 0 2-.9 2-2V5c0-1.1-.9-2-2-2zM9 17H7v-7h2v7zm4 0h-2V7h2v10zm4 0h-2v-4h2v4z\"/>\n",
              "    </g>\n",
              "</svg>\n",
              "      </button>\n",
              "\n",
              "<style>\n",
              "  .colab-df-quickchart {\n",
              "      --bg-color: #E8F0FE;\n",
              "      --fill-color: #1967D2;\n",
              "      --hover-bg-color: #E2EBFA;\n",
              "      --hover-fill-color: #174EA6;\n",
              "      --disabled-fill-color: #AAA;\n",
              "      --disabled-bg-color: #DDD;\n",
              "  }\n",
              "\n",
              "  [theme=dark] .colab-df-quickchart {\n",
              "      --bg-color: #3B4455;\n",
              "      --fill-color: #D2E3FC;\n",
              "      --hover-bg-color: #434B5C;\n",
              "      --hover-fill-color: #FFFFFF;\n",
              "      --disabled-bg-color: #3B4455;\n",
              "      --disabled-fill-color: #666;\n",
              "  }\n",
              "\n",
              "  .colab-df-quickchart {\n",
              "    background-color: var(--bg-color);\n",
              "    border: none;\n",
              "    border-radius: 50%;\n",
              "    cursor: pointer;\n",
              "    display: none;\n",
              "    fill: var(--fill-color);\n",
              "    height: 32px;\n",
              "    padding: 0;\n",
              "    width: 32px;\n",
              "  }\n",
              "\n",
              "  .colab-df-quickchart:hover {\n",
              "    background-color: var(--hover-bg-color);\n",
              "    box-shadow: 0 1px 2px rgba(60, 64, 67, 0.3), 0 1px 3px 1px rgba(60, 64, 67, 0.15);\n",
              "    fill: var(--button-hover-fill-color);\n",
              "  }\n",
              "\n",
              "  .colab-df-quickchart-complete:disabled,\n",
              "  .colab-df-quickchart-complete:disabled:hover {\n",
              "    background-color: var(--disabled-bg-color);\n",
              "    fill: var(--disabled-fill-color);\n",
              "    box-shadow: none;\n",
              "  }\n",
              "\n",
              "  .colab-df-spinner {\n",
              "    border: 2px solid var(--fill-color);\n",
              "    border-color: transparent;\n",
              "    border-bottom-color: var(--fill-color);\n",
              "    animation:\n",
              "      spin 1s steps(1) infinite;\n",
              "  }\n",
              "\n",
              "  @keyframes spin {\n",
              "    0% {\n",
              "      border-color: transparent;\n",
              "      border-bottom-color: var(--fill-color);\n",
              "      border-left-color: var(--fill-color);\n",
              "    }\n",
              "    20% {\n",
              "      border-color: transparent;\n",
              "      border-left-color: var(--fill-color);\n",
              "      border-top-color: var(--fill-color);\n",
              "    }\n",
              "    30% {\n",
              "      border-color: transparent;\n",
              "      border-left-color: var(--fill-color);\n",
              "      border-top-color: var(--fill-color);\n",
              "      border-right-color: var(--fill-color);\n",
              "    }\n",
              "    40% {\n",
              "      border-color: transparent;\n",
              "      border-right-color: var(--fill-color);\n",
              "      border-top-color: var(--fill-color);\n",
              "    }\n",
              "    60% {\n",
              "      border-color: transparent;\n",
              "      border-right-color: var(--fill-color);\n",
              "    }\n",
              "    80% {\n",
              "      border-color: transparent;\n",
              "      border-right-color: var(--fill-color);\n",
              "      border-bottom-color: var(--fill-color);\n",
              "    }\n",
              "    90% {\n",
              "      border-color: transparent;\n",
              "      border-bottom-color: var(--fill-color);\n",
              "    }\n",
              "  }\n",
              "</style>\n",
              "\n",
              "      <script>\n",
              "        async function quickchart(key) {\n",
              "          const quickchartButtonEl =\n",
              "            document.querySelector('#' + key + ' button');\n",
              "          quickchartButtonEl.disabled = true;  // To prevent multiple clicks.\n",
              "          quickchartButtonEl.classList.add('colab-df-spinner');\n",
              "          try {\n",
              "            const charts = await google.colab.kernel.invokeFunction(\n",
              "                'suggestCharts', [key], {});\n",
              "          } catch (error) {\n",
              "            console.error('Error during call to suggestCharts:', error);\n",
              "          }\n",
              "          quickchartButtonEl.classList.remove('colab-df-spinner');\n",
              "          quickchartButtonEl.classList.add('colab-df-quickchart-complete');\n",
              "        }\n",
              "        (() => {\n",
              "          let quickchartButtonEl =\n",
              "            document.querySelector('#df-3e15d790-aba5-45ae-9c88-93cd9402b4e3 button');\n",
              "          quickchartButtonEl.style.display =\n",
              "            google.colab.kernel.accessAllowed ? 'block' : 'none';\n",
              "        })();\n",
              "      </script>\n",
              "    </div>\n",
              "    </div>\n",
              "  </div>\n"
            ],
            "application/vnd.google.colaboratory.intrinsic+json": {
              "type": "dataframe",
              "variable_name": "df1",
              "summary": "{\n  \"name\": \"df1\",\n  \"rows\": 2225,\n  \"fields\": [\n    {\n      \"column\": \"news\",\n      \"properties\": {\n        \"dtype\": \"string\",\n        \"num_unique_values\": 2127,\n        \"samples\": [\n          \"Millions go missing at China bank\\n \\n Two senior officials at one of China's top commercial banks have reportedly disappeared after funds worth up to $120m (\\u00c2\\u00a364m) went missing.\\n \\n The pair both worked at Bank of China in the northern city of Harbin, the South China Morning Post reported. The latest scandal at Bank of China will do nothing to reassure foreign investors that China's big four banks are ready for international listings. Government policy sees the bank listings as vital economic reforms. Bank of China is one of two frontrunners in the race to list overseas. The other is China Construction Bank. Both are expected to list abroad during 2005.\\n \\n They shared a $45bn state bailout in 2003, to help clean up their balance sheets in preparation for a foreign stock market debut.\\n \\n However, a report in the China-published Economic Observer said on Monday that the two banks may have scrapped plans to list in New York because of the cost of meeting regulatory requirements imposed since the Enron scandal. Bank of China is the country's biggest foreign exchange dealer, while China Construction Bank is the largest deposit holder. China's banking sector is burdened with at least $190bn of bad debt according to official data, though most observers believe the true figure is far higher. Officially, one in five loans is not being repaid. Attempts to strengthen internal controls and tighten lending policies have uncovered a succession of scandals involving embezzlement by bank officials and loans-for-favours. The most high-profile case involved the ex-president of Bank of China, Wang Xuebing, jailed for 12 years in 2003. Although, he committed the offences whilst running Bank of China in New York, Mr Wang was head of China Construction Bank when the scandal broke. Earlier this month, a China Construction Bank branch manager was jailed for life in a separate case.\\n \\n China's banks used to act as cash offices for state enterprises and did not require checks on credit worthiness. The introduction of market reforms has been accompanied by attempts to modernise the banking sector, but links between banks and local government remain strong. Last year, China's premier, Wen Jiabao, targeted bank lending practices in a series of speeches, and regulators ordered all big loans to be scrutinised, in an attempt to cool down irresponsible lending. China's leaders see reforming the top four banks as vital to distribute capital to profitable companies and protect the health of China's economic boom. But two problems persist. First, inefficient state enterprises continue to receive protection from bankruptcy because they employ large numbers of people. Second, many questionable loans come not from the big four, but from smaller banks. Another high profile financial firm, China Life, is facing shareholder lawsuits and a probe by the US Securities and Exchange Commission following its 2004 New York listing over its failure to disclose accounting irregularities at its parent company.\\n\",\n          \"Portable PlayStation ready to go\\n \\n Sony's PlayStation Portable (PSP) will go on sale in Japan on 12 December.\\n \\n The long-awaited handheld game playing gadget will cost about 19,800 yen (145 euros) when it hits the shelves. At launch 21 games will be available for the PSP, including Need for Speed, Ridge Racer, Metal Gear Acid and Vampire Chronicle. Sony has not yet announced when the PSP will be available in Europe and the US, but analysts expect it to debut in those territories in early 2005.\\n \\n Fifa 2005 is back at the top of the UK games charts, a week after losing it to rival Pro Evolution Soccer 4. Konami's Pro Evo dropped only one place to two, while the only new entry in the top 10 was another football title, LMA Manager 2005, in at number seven. Tony Hawk's Underground 2 held its own at three, while Star Wars Battlefront inched up to four places to four. There was good news for Disney, with the spin-off from the Shark's Tale film moving up the charts into number eight.\\n \\n Fans of the Gran Turismo series in Europe are going to have to wait until next year for the latest version. Sony has said that the PAL version of GT4 will not be ready for Christmas. \\\"The product is localised into 13 different languages across the PAL territories, therefore the process takes considerably longer than it does in Japan,\\\" it said. Gran Turismo 4 for the PlayStation 2 is still expected to be released in Japan and the USA this year.\\n \\n Halo 2 has broken video game records, with pre-orders of more than 1.5 million in the US alone. Some 6,500 US stores plan to open just after midnight on Tuesday 9 November for the game's release. \\\"Halo 2 is projected to bring in more revenue than any day one box office blockbuster movie in the United States,\\\" said Xbox's Peter Moore. \\\"We've even heard rumours of fan anticipation of the 'Halo 2 flu' on 9 November.\\\"\\n\",\n          \"Tomlinson stays focused on Europe\\n \\n Long jumper Chris Tomlinson has cut his schedule to ensure he is fully fit for the European Indoor Championships.\\n \\n The 23-year-old has a minor injury and has pulled out of international meets in Madrid and Lievin this week as well as warm-weather training in Lanzarote. \\\"It's nothing serious,\\\" said his coach Peter Stanley. \\\"He strained a muscle in his abdomen at the Birmingham meeting but is back in full training.\\\" Sprinter Mark Lewis-Francis will also not compete in Madrid on Thursday. The Birmingham athlete, who clocked a season's best of 6.61 seconds over 60m in Birmingham last week, also prefers to focus his attentions on next month's European Indoor Championships.\\n \\n Lewis-Francis, who was runner-up to British team-mate Jason Gardener at the Europeans three years ago, will continue his training at home. Meanwhile, Tomlinson is still searching for this first major medal and this season he has shown he could be in the sort of form to grab a spot on the podium in Madrid. The Middlesbrough athlete jumped a season's best of 7.95m at the Birmingham Grand Prix - good enough to push world indoor champion Savante Stringfellow into second.\\n\"\n        ],\n        \"semantic_type\": \"\",\n        \"description\": \"\"\n      }\n    },\n    {\n      \"column\": \"type\",\n      \"properties\": {\n        \"dtype\": \"category\",\n        \"num_unique_values\": 5,\n        \"samples\": [\n          \"entertainment\",\n          \"tech\",\n          \"politics\"\n        ],\n        \"semantic_type\": \"\",\n        \"description\": \"\"\n      }\n    },\n    {\n      \"column\": \"clean\",\n      \"properties\": {\n        \"dtype\": \"string\",\n        \"num_unique_values\": 2122,\n        \"samples\": [\n          \"johansson takes adelaide victory second seed joachim johansson won his second career title with a 7 5 6 3 win over taylor dent at the australian hardcourt championships in adelaide the swede was made to graft american dent surviving three break points in the fifth game of the match but johansson got the breakthrough with a sublime backhand return winner and won the second set with more ease his first tournament win was at memphis in 2004 helping him leap from 113th in the world rankings to number 11 afterwards dent said he rated us open semi finalist johansson as a top contender at the australian open which starts on 17 january i believe men s tennis is all about holding serve and if he s playing like that on his own serve i don t see how guys are going to break him said dent johansson was more restrained in his assessment i have to improve my serve if i m going to go all the way in melbourne \",\n          \"latin america sees strong growth latin america s economy grew by 5 5 in 2004 its best performance since 1980 while exports registered their best performance in two decades the united nations economic commission for latin america and the caribbean said the region grew by 5 5 this year the inter american development bank iadb said regional exports reached 445 1bn 227bn 331bn euros in 2004 doubts about the strength of the us recovery and overheating of the chinese economy do however pose risks for 2005 both organisations also warned that high oil prices raise the risk of either inflation or recession nevertheless the economic commission for latin america and the caribbean eclac still forecasts growth of 4 for 2005 strong recovery in some countries such as venezuela and uruguay boosted the overall performance of the region eclac also said that the six largest latin american economies argentina brazil chile colombia mexico and venezuela grew by more than 3 for only the second time in 20 years chinese and us economic strength helped boost exports as did strong demand for agricultural and mining products in fact latin american exports to china grew 34 to 14bn higher oil prices also helped boost exports as mexico and venezuela are important oil exporters regional blocs as well as free trade agreements with the us contributed to the region s strong performance the iadb said \",\n          \"venezuela reviews foreign deals venezuela is to review all foreign investment in its mining industries in an effort to strengthen its indigenous industrial output president hugo chavez has ordered all existing contracts with foreign firms to be examined to see if they provide maximum benefits to the country the review will cover production of gold aluminium and iron ore although it excludes the country s oil sector chavez has sought to extend the state s role in all sectors of the economy the left wing president is conducting a controversial review of land ownership in the country while also seeking to create a state run telecoms firm to compete with foreign owned businesses he has argued that major economic reforms are vital to improve the lives of venezuela s poorest citizens announcing the review of raw material production minister victor alvarez said the government would seek to transfer technology training capability and content from projects with foreign partners we are defending our national sovereignty over the use of our national resources which must serve the endogenous development of the nation mr alvarez said for this reason we are reviewing all memorandums of understanding all letters of intent all agreements that have been signed all contracts to check which of these comply with these directives everything absolutely everything has to be reviewed venezuela has previously assured foreign companies with operations in the mineral rich country that it respects existing contracts however the government insisted that it needed to develop its own industrial infrastructure in order to create new jobs and lessen its reliance on foreign partners if we don t do this we are just going to carry on being slaves suppliers of raw materials all our lives and we will never develop our own productive capacity mr alvarez added companies from the united states canada france and switzerland all have substantial investments in venezuela s mining sector \"\n        ],\n        \"semantic_type\": \"\",\n        \"description\": \"\"\n      }\n    }\n  ]\n}"
            }
          },
          "metadata": {},
          "execution_count": 65
        }
      ]
    },
    {
      "cell_type": "markdown",
      "metadata": {
        "id": "competitive-power"
      },
      "source": [
        "<b>--> The training sample size (how many words present in the vocabulary?)"
      ],
      "id": "competitive-power"
    },
    {
      "cell_type": "code",
      "metadata": {
        "colab": {
          "base_uri": "https://localhost:8080/"
        },
        "id": "marked-carbon",
        "outputId": "c026ef61-a583-4e67-af0f-36b8eeacf266"
      },
      "source": [
        "sentences = [row.split() for row in df1['clean']]\n",
        "word_freq = defaultdict(int)\n",
        "for sent in sentences:\n",
        "    for i in sent:\n",
        "        word_freq[i] += 1\n",
        "\n",
        "print('Documents:',len(sentences))\n",
        "print('Words:',len(word_freq))"
      ],
      "id": "marked-carbon",
      "execution_count": 66,
      "outputs": [
        {
          "output_type": "stream",
          "name": "stdout",
          "text": [
            "Documents: 2225\n",
            "Words: 29454\n"
          ]
        }
      ]
    },
    {
      "cell_type": "markdown",
      "metadata": {
        "id": "exciting-recovery"
      },
      "source": [
        "<b>--> What are the highly frequent words?"
      ],
      "id": "exciting-recovery"
    },
    {
      "cell_type": "code",
      "metadata": {
        "colab": {
          "base_uri": "https://localhost:8080/"
        },
        "id": "ordinary-triumph",
        "outputId": "b8433e82-d53d-403a-daa4-59b89e6d1202"
      },
      "source": [
        "sorted(word_freq, key=word_freq.get, reverse= True)[:10]\n"
      ],
      "id": "ordinary-triumph",
      "execution_count": 67,
      "outputs": [
        {
          "output_type": "execute_result",
          "data": {
            "text/plain": [
              "['the', 'to', 'of', 'and', 'a', 'in', 's', 'for', 'is', 'that']"
            ]
          },
          "metadata": {},
          "execution_count": 67
        }
      ]
    },
    {
      "cell_type": "markdown",
      "metadata": {
        "id": "whole-serbia"
      },
      "source": [
        "# 4. Define Word2Vec model 💡"
      ],
      "id": "whole-serbia"
    },
    {
      "cell_type": "code",
      "metadata": {
        "id": "sustainable-anniversary"
      },
      "source": [
        "w2v_model = Word2Vec(min_count=1,\n",
        "                     window=5,\n",
        "                     #size=100,\n",
        "                     workers=1, seed = 1)"
      ],
      "id": "sustainable-anniversary",
      "execution_count": 68,
      "outputs": []
    },
    {
      "cell_type": "markdown",
      "metadata": {
        "id": "imposed-israel"
      },
      "source": [
        "#5. Build a vocabulary 🔠\n",
        "\n",
        "---\n",
        "\n"
      ],
      "id": "imposed-israel"
    },
    {
      "cell_type": "code",
      "metadata": {
        "id": "painful-institution"
      },
      "source": [
        "w2v_model.build_vocab(sentences)"
      ],
      "id": "painful-institution",
      "execution_count": 69,
      "outputs": []
    },
    {
      "cell_type": "markdown",
      "metadata": {
        "id": "1mIG-nR0p1NN"
      },
      "source": [
        "<b>-->Check vocabulary"
      ],
      "id": "1mIG-nR0p1NN"
    },
    {
      "cell_type": "code",
      "metadata": {
        "colab": {
          "base_uri": "https://localhost:8080/"
        },
        "id": "hfKM5-Nj8ZTG",
        "outputId": "52e62025-4bc5-4f1d-a87b-1a379dcbddf4"
      },
      "source": [
        "wordlist = list(w2v_model.wv.index_to_key)\n",
        "print(wordlist[5:20])# 15 words from the vocabulary\n",
        "#print(wordlist)# The whole list of vocabulary"
      ],
      "id": "hfKM5-Nj8ZTG",
      "execution_count": 70,
      "outputs": [
        {
          "output_type": "stream",
          "name": "stdout",
          "text": [
            "['in', 's', 'for', 'is', 'that', 'it', 'on', 'said', 'was', 'he', 'be', 'with', 'as', 'has', 'have']\n"
          ]
        }
      ]
    },
    {
      "cell_type": "markdown",
      "metadata": {
        "id": "recreational-remove"
      },
      "source": [
        "# 6. Train the model 🛠️ ⚙️🤖🦾"
      ],
      "id": "recreational-remove"
    },
    {
      "cell_type": "code",
      "metadata": {
        "id": "original-controversy",
        "colab": {
          "base_uri": "https://localhost:8080/"
        },
        "outputId": "c8fa6a24-c0eb-456a-d1c3-a028928e27b0"
      },
      "source": [
        "# Train the Word2Vec model\n",
        "w2v_model.train(sentences, total_examples=w2v_model.corpus_count, epochs=w2v_model.epochs)\n"
      ],
      "id": "original-controversy",
      "execution_count": 71,
      "outputs": [
        {
          "output_type": "execute_result",
          "data": {
            "text/plain": [
              "(3463919, 4381550)"
            ]
          },
          "metadata": {},
          "execution_count": 71
        }
      ]
    },
    {
      "cell_type": "markdown",
      "metadata": {
        "id": "straight-pressing"
      },
      "source": [
        "# 7. Explore the model ⋆⭒˚.⋆🪐 ⋆⭒˚.⋆"
      ],
      "id": "straight-pressing"
    },
    {
      "cell_type": "markdown",
      "metadata": {
        "id": "moved-duration"
      },
      "source": [
        "<b>--> Most similar words for a given word"
      ],
      "id": "moved-duration"
    },
    {
      "cell_type": "code",
      "metadata": {
        "colab": {
          "base_uri": "https://localhost:8080/"
        },
        "id": "outer-james",
        "outputId": "813dc4e9-b6b9-4697-ca99-2bbd743b96a7"
      },
      "source": [
        "# Explore the model\n",
        "w = 'internet' # example word = 'internet'\n",
        "w2v_model.wv.most_similar(positive=[w])"
      ],
      "id": "outer-james",
      "execution_count": 72,
      "outputs": [
        {
          "output_type": "execute_result",
          "data": {
            "text/plain": [
              "[('networks', 0.9541459679603577),\n",
              " ('net', 0.9524144530296326),\n",
              " ('products', 0.9457414150238037),\n",
              " ('pcs', 0.9435450434684753),\n",
              " ('computers', 0.93808913230896),\n",
              " ('spread', 0.9324747920036316),\n",
              " ('tools', 0.9310160875320435),\n",
              " ('businesses', 0.9299315810203552),\n",
              " ('infected', 0.9285639524459839),\n",
              " ('files', 0.9263722896575928)]"
            ]
          },
          "metadata": {},
          "execution_count": 72
        }
      ]
    },
    {
      "cell_type": "markdown",
      "metadata": {
        "id": "affecting-result"
      },
      "source": [
        "<b>--> Top 5 similar words"
      ],
      "id": "affecting-result"
    },
    {
      "cell_type": "code",
      "metadata": {
        "colab": {
          "base_uri": "https://localhost:8080/"
        },
        "id": "accomplished-accident",
        "outputId": "e56acec8-109d-4607-f0a9-f81ef90b3435"
      },
      "source": [
        "w = 'china' # example word 'russia'\n",
        "w2v_model.wv.most_similar(positive=[w],topn =5)"
      ],
      "id": "accomplished-accident",
      "execution_count": 73,
      "outputs": [
        {
          "output_type": "execute_result",
          "data": {
            "text/plain": [
              "[('india', 0.9685223698616028),\n",
              " ('nintendo', 0.9519595503807068),\n",
              " ('japan', 0.9514790177345276),\n",
              " ('psp', 0.9428341388702393),\n",
              " ('america', 0.9354479908943176)]"
            ]
          },
          "metadata": {},
          "execution_count": 73
        }
      ]
    },
    {
      "cell_type": "markdown",
      "metadata": {
        "id": "interesting-ecology"
      },
      "source": [
        "<b>--> Similarity between two words"
      ],
      "id": "interesting-ecology"
    },
    {
      "cell_type": "code",
      "metadata": {
        "colab": {
          "base_uri": "https://localhost:8080/"
        },
        "id": "educated-collective",
        "outputId": "96a92a54-c5b2-4658-9677-8e4e826592e4"
      },
      "source": [
        "u = 'man'; v = 'woman' #other example words 'sea' and 'water'\n",
        "similarity_score = w2v_model.wv.similarity(u, v)\n",
        "print(similarity_score)"
      ],
      "id": "educated-collective",
      "execution_count": 74,
      "outputs": [
        {
          "output_type": "stream",
          "name": "stdout",
          "text": [
            "0.90640634\n"
          ]
        }
      ]
    },
    {
      "cell_type": "code",
      "source": [
        "u = 'water'; v = 'sea'\n",
        "similarity_score = w2v_model.wv.similarity(u,v)\n",
        "print(similarity_score)"
      ],
      "metadata": {
        "colab": {
          "base_uri": "https://localhost:8080/"
        },
        "id": "qfDsW2ldm3ip",
        "outputId": "c0e8df04-7403-4440-acdf-737621284561"
      },
      "id": "qfDsW2ldm3ip",
      "execution_count": 75,
      "outputs": [
        {
          "output_type": "stream",
          "name": "stdout",
          "text": [
            "0.9267219\n"
          ]
        }
      ]
    },
    {
      "cell_type": "markdown",
      "source": [
        "Not so close words"
      ],
      "metadata": {
        "id": "C0eKTbYon0gV"
      },
      "id": "C0eKTbYon0gV"
    },
    {
      "cell_type": "code",
      "source": [
        "u = 'highly'; v = 'sunday' #other not so close meaning words\n",
        "similarity_score = w2v_model.wv.similarity(u,v)\n",
        "print(similarity_score)"
      ],
      "metadata": {
        "colab": {
          "base_uri": "https://localhost:8080/"
        },
        "id": "UZ9emDpYnE4L",
        "outputId": "a049255a-a2e5-47ea-dde9-0ea78f39b730"
      },
      "id": "UZ9emDpYnE4L",
      "execution_count": 27,
      "outputs": [
        {
          "output_type": "stream",
          "name": "stdout",
          "text": [
            "-0.22497152\n"
          ]
        }
      ]
    },
    {
      "cell_type": "markdown",
      "metadata": {
        "id": "K1sAHA8ALHqv"
      },
      "source": [
        "<b>--> Analogy (from the triplet),<br> E.g., go: went :: come: ? ;  Answer: came\n",
        "\n",
        "---\n",
        "\n"
      ],
      "id": "K1sAHA8ALHqv"
    },
    {
      "cell_type": "code",
      "metadata": {
        "id": "WKVBJ9AFJ5ID"
      },
      "source": [
        "def analogy(a,b,c):\n",
        "  ans = w2v_model.wv.most_similar(negative=[a],positive=[b,c],topn =1) # E.g., rain+fly-raining =flying\n",
        "  print ('Answer: ', ans[0][0])\n",
        "\n"
      ],
      "id": "WKVBJ9AFJ5ID",
      "execution_count": 76,
      "outputs": []
    },
    {
      "cell_type": "code",
      "metadata": {
        "colab": {
          "base_uri": "https://localhost:8080/"
        },
        "id": "Q5sQW-YOOyVx",
        "outputId": "c28bd6b8-9b21-4ab5-d638-38701f3b530a"
      },
      "source": [
        "analogy('he','she','his')"
      ],
      "id": "Q5sQW-YOOyVx",
      "execution_count": 77,
      "outputs": [
        {
          "output_type": "stream",
          "name": "stdout",
          "text": [
            "Answer:  her\n"
          ]
        }
      ]
    },
    {
      "cell_type": "code",
      "source": [
        "analogy('go','went','come')"
      ],
      "metadata": {
        "colab": {
          "base_uri": "https://localhost:8080/"
        },
        "id": "xgyzc2rbtdXN",
        "outputId": "19af6e70-36e9-495f-ab44-89ee4c211b29"
      },
      "id": "xgyzc2rbtdXN",
      "execution_count": 78,
      "outputs": [
        {
          "output_type": "stream",
          "name": "stdout",
          "text": [
            "Answer:  came\n"
          ]
        }
      ]
    },
    {
      "cell_type": "code",
      "source": [
        "analogy('days','month','months')"
      ],
      "metadata": {
        "colab": {
          "base_uri": "https://localhost:8080/"
        },
        "id": "fYVhBWODuDTw",
        "outputId": "00d5c1fa-1397-40a8-977e-5cb1bf879474"
      },
      "id": "fYVhBWODuDTw",
      "execution_count": 79,
      "outputs": [
        {
          "output_type": "stream",
          "name": "stdout",
          "text": [
            "Answer:  year\n"
          ]
        }
      ]
    },
    {
      "cell_type": "code",
      "source": [
        "analogy('man','woman', 'king')"
      ],
      "metadata": {
        "colab": {
          "base_uri": "https://localhost:8080/"
        },
        "id": "DJ-eI_GE2UCA",
        "outputId": "44bcde45-2f9e-4263-f3ab-f029bfdae4b7"
      },
      "id": "DJ-eI_GE2UCA",
      "execution_count": 80,
      "outputs": [
        {
          "output_type": "stream",
          "name": "stdout",
          "text": [
            "Answer:  regulator\n"
          ]
        }
      ]
    },
    {
      "cell_type": "markdown",
      "metadata": {
        "id": "sufficient-serve"
      },
      "source": [
        "<b>--> Plot embeddings</b><br>\n",
        "  Consider some common terms in the vocabulary as given in the following example"
      ],
      "id": "sufficient-serve"
    },
    {
      "cell_type": "markdown",
      "source": [],
      "metadata": {
        "id": "LLUeZ9ZhB-tZ"
      },
      "id": "LLUeZ9ZhB-tZ"
    },
    {
      "cell_type": "code",
      "metadata": {
        "id": "ready-tonight",
        "colab": {
          "base_uri": "https://localhost:8080/"
        },
        "outputId": "ffe6c7d7-109e-453c-f009-a4581ac5b77d"
      },
      "source": [
        "# We create 65 informative terms that compose our model vocabulary (to see how they are embedded in the vector space)\n",
        "informative_terms = (\"bad\", \"great\", \"best\", \"worst\", \"fun\", \"beautiful\",\n",
        "                     \"excellent\", \"poor\", \"boring\", \"awful\", \"terrible\",\n",
        "                     \"definitely\", \"perfect\", \"liked\", \"worse\", \"waste\",\n",
        "                      \"loved\", \"unfortunately\", \"amazing\",\n",
        "                     \"enjoyed\", \"favourite\", \"horrible\", \"brilliant\", \"highly\",\n",
        "                     \"sunday\",\"monday\",\"friday\",\"computer\", \"software\",\"network\",\n",
        "                     \"business\", \"bank\", \"money\",\n",
        "                     \"simple\", \"annoying\", \"today\", \"hilarious\", \"enjoyable\",\n",
        "                     \"dull\", \"fantastic\", \"poorly\", \"fails\", \"disappointing\",\n",
        "                     \"disappointment\", \"not\", \"him\", \"her\", \"good\", \"time\",\n",
        "                       \"action\",\"china\", \"moscow\",\"usa\",\"brazil\",\n",
        "                     \"drama\", \"family\", \"dialogue\",\"plot\",\"acting\",\n",
        "                     '1','2','3','100','1bn','3bn')\n",
        "len(informative_terms)"
      ],
      "id": "ready-tonight",
      "execution_count": 81,
      "outputs": [
        {
          "output_type": "execute_result",
          "data": {
            "text/plain": [
              "65"
            ]
          },
          "metadata": {},
          "execution_count": 81
        }
      ]
    },
    {
      "cell_type": "markdown",
      "metadata": {
        "id": "liberal-luxury"
      },
      "source": [
        "<b>--> Define and call a function to plot (using TSNE tool)"
      ],
      "id": "liberal-luxury"
    },
    {
      "cell_type": "code",
      "source": [
        "import matplotlib.pyplot as plt\n",
        "from sklearn.manifold import TSNE\n",
        "import numpy as np\n",
        "\n",
        "def tsne_plot(model, words_labels):\n",
        "    \"\"\"Create TSNE model and plot it\"\"\"\n",
        "    labels = []\n",
        "    tokens = []\n",
        "\n",
        "    # Collect vectors for words in vocabulary\n",
        "    for word in words_labels:\n",
        "        if word in model.wv.key_to_index:\n",
        "            tokens.append(model.wv[word])\n",
        "            labels.append(word)\n",
        "        else:\n",
        "            print(f\"Word '{word}' not in vocabulary\")\n",
        "\n",
        "    # Convert list of vectors to NumPy array\n",
        "    tokens_np = np.array(tokens)\n",
        "\n",
        "    # Ensure perplexity is less than number of samples\n",
        "    perplexity = min(5, len(tokens_np) - 1)\n",
        "\n",
        "    # Create TSNE model\n",
        "    tsne_model = TSNE(perplexity=perplexity, n_components=2, init='pca', max_iter=2500, random_state=23)\n",
        "    new_values = tsne_model.fit_transform(tokens_np)\n",
        "\n",
        "    # Separate x and y coordinates\n",
        "    x = [value[0] for value in new_values]\n",
        "    y = [value[1] for value in new_values]\n",
        "\n",
        "    # Plot\n",
        "    plt.figure(figsize=(10, 10))\n",
        "    for i in range(len(x)):\n",
        "        plt.scatter(x[i], y[i])\n",
        "        plt.annotate(labels[i],\n",
        "                     xy=(x[i], y[i]),\n",
        "                     xytext=(5, 2),\n",
        "                     textcoords='offset points',\n",
        "                     ha='right',\n",
        "                     va='bottom')\n",
        "    plt.show()"
      ],
      "metadata": {
        "id": "JJZEwEUiRDar"
      },
      "id": "JJZEwEUiRDar",
      "execution_count": 82,
      "outputs": []
    },
    {
      "cell_type": "code",
      "source": [
        " ## call this function\n",
        "tsne_plot(w2v_model,informative_terms)"
      ],
      "metadata": {
        "colab": {
          "base_uri": "https://localhost:8080/",
          "height": 830
        },
        "id": "mml3Qlp-RFF9",
        "outputId": "01ddfba2-bc4e-4234-c9e1-268f5543f8ce"
      },
      "id": "mml3Qlp-RFF9",
      "execution_count": 83,
      "outputs": [
        {
          "output_type": "display_data",
          "data": {
            "text/plain": [
              "<Figure size 1000x1000 with 1 Axes>"
            ],
            "image/png": "[encoded data removed]"
          },
          "metadata": {}
        }
      ]
    }
  ]
}